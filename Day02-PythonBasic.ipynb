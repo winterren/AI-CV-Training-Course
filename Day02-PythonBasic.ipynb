{
 "cells": [
  {
   "cell_type": "markdown",
   "metadata": {},
   "source": [
    "# Day02 基础练习"
   ]
  },
  {
   "cell_type": "markdown",
   "metadata": {},
   "source": [
    "## 1. Python基础"
   ]
  },
  {
   "cell_type": "markdown",
   "metadata": {},
   "source": [
    "### 1.1 变量与数据类型"
   ]
  },
  {
   "cell_type": "code",
   "execution_count": null,
   "metadata": {
    "scrolled": true
   },
   "outputs": [],
   "source": [
    "# 示例题目：创建两个变量 `a` 和 `b`，分别赋值为 5 和 10，然后打印它们的和。\n",
    "a = 5\n",
    "b = 10\n",
    "print(\"它们的和是:\", a + b)"
   ]
  },
  {
   "cell_type": "code",
   "execution_count": null,
   "metadata": {
    "scrolled": true
   },
   "outputs": [],
   "source": [
    "# 题目：创建两个变量a和b，分别赋值为5和10，然后打印它们的和。\n",
    "a = 5\n",
    "b = 10\n",
    "# 你的代码 "
   ]
  },
  {
   "cell_type": "code",
   "execution_count": null,
   "metadata": {
    "scrolled": true
   },
   "outputs": [],
   "source": [
    "# 题目：创建一个变量name，将你的名字赋值给它，然后打印一条欢迎信息，比如\"Hello, 张三!\"。\n",
    "name = \"张三\"\n",
    "# 你的代码"
   ]
  },
  {
   "cell_type": "markdown",
   "metadata": {},
   "source": [
    "### 1.2 输入输出\n"
   ]
  },
  {
   "cell_type": "code",
   "execution_count": 1,
   "metadata": {
    "execution": {
     "iopub.execute_input": "2024-12-30T02:02:23.307667Z",
     "iopub.status.busy": "2024-12-30T02:02:23.306999Z",
     "iopub.status.idle": "2024-12-30T02:02:29.441658Z",
     "shell.execute_reply": "2024-12-30T02:02:29.440198Z",
     "shell.execute_reply.started": "2024-12-30T02:02:23.307634Z"
    },
    "scrolled": true,
    "tags": []
   },
   "outputs": [
    {
     "name": "stdin",
     "output_type": "stream",
     "text": [
      "请输入你的名字:  张\r\n"
     ]
    },
    {
     "name": "stdout",
     "output_type": "stream",
     "text": [
      "Hello, 张\r\n"
     ]
    }
   ],
   "source": [
    "# 示例题目：写一个程序，要求用户输入他们的名字，并打印 \"Hello, [名字]\"。\n",
    "name = input(\"请输入你的名字: \")\n",
    "print(\"Hello,\", name)"
   ]
  },
  {
   "cell_type": "code",
   "execution_count": 3,
   "metadata": {
    "execution": {
     "iopub.execute_input": "2024-12-30T02:05:17.898222Z",
     "iopub.status.busy": "2024-12-30T02:05:17.897672Z",
     "iopub.status.idle": "2024-12-30T02:05:19.608476Z",
     "shell.execute_reply": "2024-12-30T02:05:19.607388Z",
     "shell.execute_reply.started": "2024-12-30T02:05:17.898189Z"
    },
    "scrolled": true,
    "tags": []
   },
   "outputs": [
    {
     "name": "stdin",
     "output_type": "stream",
     "text": [
      "请输入你的名字:  zhang\r\n"
     ]
    }
   ],
   "source": [
    "# 题目：写一个程序，要求用户输入他们的名字和年龄，并打印\"Hello, [名字]，你的年龄是[年龄]\"。\n",
    "name = input(\"请输入你的名字: \")\n",
    "# 你的代码"
   ]
  },
  {
   "cell_type": "code",
   "execution_count": null,
   "metadata": {
    "scrolled": true
   },
   "outputs": [],
   "source": [
    "# 题目：编写一个程序，要求用户输入两个数字，然后输出它们的乘积。\n",
    "num1 = input(\"请输入第一个数字: \")\n",
    "# 你的代码"
   ]
  },
  {
   "cell_type": "markdown",
   "metadata": {},
   "source": [
    "## 1.3 条件语句"
   ]
  },
  {
   "cell_type": "code",
   "execution_count": 4,
   "metadata": {
    "execution": {
     "iopub.execute_input": "2024-12-30T02:06:44.519466Z",
     "iopub.status.busy": "2024-12-30T02:06:44.518763Z",
     "iopub.status.idle": "2024-12-30T02:06:47.310842Z",
     "shell.execute_reply": "2024-12-30T02:06:47.309761Z",
     "shell.execute_reply.started": "2024-12-30T02:06:44.519418Z"
    },
    "scrolled": true,
    "tags": []
   },
   "outputs": [
    {
     "name": "stdin",
     "output_type": "stream",
     "text": [
      "请输入一个数字:  22\r\n"
     ]
    },
    {
     "name": "stdout",
     "output_type": "stream",
     "text": [
      "这个数字是偶数。\r\n"
     ]
    }
   ],
   "source": [
    "# 示例题目：写一个程序，判断一个用户输入的数字是奇数还是偶数。\n",
    "num = int(input(\"请输入一个数字: \"))\n",
    "if num % 2 == 0:\n",
    "    print(\"这个数字是偶数。\")\n",
    "else:\n",
    "    print(\"这个数字是奇数。\")"
   ]
  },
  {
   "cell_type": "code",
   "execution_count": 5,
   "metadata": {
    "execution": {
     "iopub.execute_input": "2024-12-30T02:07:43.839042Z",
     "iopub.status.busy": "2024-12-30T02:07:43.838289Z",
     "iopub.status.idle": "2024-12-30T02:07:43.844327Z",
     "shell.execute_reply": "2024-12-30T02:07:43.843245Z",
     "shell.execute_reply.started": "2024-12-30T02:07:43.839004Z"
    },
    "scrolled": true
   },
   "outputs": [],
   "source": [
    "# 题目：编写一个程序，判断用户输入的数字是否大于10，如果是则打印 \"大于10\"，否则打印 \"不大于10\"。\n",
    "# 你的代码"
   ]
  },
  {
   "cell_type": "code",
   "execution_count": 6,
   "metadata": {
    "execution": {
     "iopub.execute_input": "2024-12-30T02:08:18.808740Z",
     "iopub.status.busy": "2024-12-30T02:08:18.807322Z",
     "iopub.status.idle": "2024-12-30T02:08:18.812734Z",
     "shell.execute_reply": "2024-12-30T02:08:18.811740Z",
     "shell.execute_reply.started": "2024-12-30T02:08:18.808698Z"
    },
    "scrolled": true
   },
   "outputs": [],
   "source": [
    "# 题目：判断一个数字是否为正数，如果是正数打印 \"正数\"，否则打印 \"不是正数\"。\n",
    "# 你的代码"
   ]
  },
  {
   "cell_type": "markdown",
   "metadata": {},
   "source": [
    "## 1.4 循环"
   ]
  },
  {
   "cell_type": "code",
   "execution_count": null,
   "metadata": {
    "scrolled": true
   },
   "outputs": [],
   "source": [
    "# 示例题目：使用 for 循环打印数字 1 到 5。\n",
    "for i in range(1, 6):\n",
    "    print(i)"
   ]
  },
  {
   "cell_type": "code",
   "execution_count": null,
   "metadata": {
    "scrolled": true
   },
   "outputs": [],
   "source": [
    "# 题目：使用 for 循环打印数字 1 到 50。\n",
    "# 你的代码"
   ]
  },
  {
   "cell_type": "code",
   "execution_count": 7,
   "metadata": {
    "execution": {
     "iopub.execute_input": "2024-12-30T02:10:53.607872Z",
     "iopub.status.busy": "2024-12-30T02:10:53.607204Z",
     "iopub.status.idle": "2024-12-30T02:10:53.612785Z",
     "shell.execute_reply": "2024-12-30T02:10:53.611421Z",
     "shell.execute_reply.started": "2024-12-30T02:10:53.607835Z"
    },
    "scrolled": true
   },
   "outputs": [],
   "source": [
    "# 题目：编写一个程序，打印从1到50的所有偶数。\n",
    "# 你的代码"
   ]
  },
  {
   "cell_type": "markdown",
   "metadata": {},
   "source": [
    "## 1.5 函数"
   ]
  },
  {
   "cell_type": "code",
   "execution_count": 8,
   "metadata": {
    "execution": {
     "iopub.execute_input": "2024-12-30T02:11:52.808504Z",
     "iopub.status.busy": "2024-12-30T02:11:52.807268Z",
     "iopub.status.idle": "2024-12-30T02:11:52.814032Z",
     "shell.execute_reply": "2024-12-30T02:11:52.813024Z",
     "shell.execute_reply.started": "2024-12-30T02:11:52.808464Z"
    },
    "scrolled": true
   },
   "outputs": [
    {
     "name": "stdout",
     "output_type": "stream",
     "text": [
      "8\r\n"
     ]
    }
   ],
   "source": [
    "# 示例代码：定义一个函数 add，接受两个参数，返回它们的和。\n",
    "def add(a, b):\n",
    "    return a + b\n",
    "\n",
    "print(add(3, 5))"
   ]
  },
  {
   "cell_type": "code",
   "execution_count": null,
   "metadata": {
    "scrolled": true
   },
   "outputs": [],
   "source": [
    "# 题目：定义一个函数 minus，接受两个参数，返回它们的差。\n",
    "# 你的代码\n",
    "\n",
    "# 测试结果\n",
    "print(minus(5,3))"
   ]
  },
  {
   "cell_type": "code",
   "execution_count": null,
   "metadata": {
    "scrolled": true
   },
   "outputs": [],
   "source": [
    "# 题目：定义一个函数 square，接受一个数字作为参数，返回它的平方。\n",
    "# 你的代码\n",
    "\n",
    "# 测试结果\n",
    "print(square(50))"
   ]
  },
  {
   "cell_type": "markdown",
   "metadata": {},
   "source": [
    "## 1.6 数据结构"
   ]
  },
  {
   "cell_type": "code",
   "execution_count": null,
   "metadata": {
    "scrolled": true
   },
   "outputs": [],
   "source": [
    "# 题目： 数组元素求和\n",
    "# 要求： 编写代码，计算一个数组中所有元素的和。\n",
    "\n",
    "# 完成以下代码，计算数组的和\n",
    "nums = [10, 20, 30, 40]\n",
    "total = 0\n",
    "for num in nums:\n",
    "    # \n",
    "    # 你的代码：将 num 加到 total 中\n",
    "    # \n",
    "print(\"数组的总和是:\", total)"
   ]
  },
  {
   "cell_type": "markdown",
   "metadata": {},
   "source": [
    "## 2. Linux命令"
   ]
  },
  {
   "cell_type": "code",
   "execution_count": 21,
   "metadata": {
    "execution": {
     "iopub.execute_input": "2024-12-30T02:28:14.226941Z",
     "iopub.status.busy": "2024-12-30T02:28:14.226355Z",
     "iopub.status.idle": "2024-12-30T02:28:14.522702Z",
     "shell.execute_reply": "2024-12-30T02:28:14.521463Z",
     "shell.execute_reply.started": "2024-12-30T02:28:14.226906Z"
    },
    "scrolled": true,
    "tags": []
   },
   "outputs": [
    {
     "name": "stdout",
     "output_type": "stream",
     "text": [
      "/home/aistudio\r\n"
     ]
    },
    {
     "data": {
      "text/plain": [
       "'/home/aistudio'"
      ]
     },
     "execution_count": 21,
     "metadata": {},
     "output_type": "execute_result"
    }
   ],
   "source": [
    "# 查看当前目录\n",
    "!pwd\n",
    "%pwd"
   ]
  },
  {
   "cell_type": "code",
   "execution_count": 24,
   "metadata": {
    "execution": {
     "iopub.execute_input": "2024-12-30T02:28:34.535634Z",
     "iopub.status.busy": "2024-12-30T02:28:34.534859Z",
     "iopub.status.idle": "2024-12-30T02:28:34.929269Z",
     "shell.execute_reply": "2024-12-30T02:28:34.927995Z",
     "shell.execute_reply.started": "2024-12-30T02:28:34.535581Z"
    },
    "scrolled": true,
    "tags": []
   },
   "outputs": [
    {
     "name": "stdout",
     "output_type": "stream",
     "text": [
      " \u001b[0m\u001b[01;34m.\u001b[0m/\r\n",
      " \u001b[01;34m..\u001b[0m/\r\n",
      " .aistudiofs\r\n",
      " .aistudiofs.download.success\r\n",
      " .aistudiofs.success\r\n",
      " .bash_history\r\n",
      " .bash_logout\r\n",
      " .bashrc\r\n",
      " \u001b[01;34m.cache\u001b[0m/\r\n",
      " .codelab-jupyter.log\r\n",
      " \u001b[01;34m.comate-engine\u001b[0m/\r\n",
      " .comate_agent_port.txt\r\n",
      " \u001b[01;34m.conda\u001b[0m/\r\n",
      " \u001b[01;34m.config\u001b[0m/\r\n",
      " \u001b[01;34m.data\u001b[0m/\r\n",
      " \u001b[01;34m.dataset.download\u001b[0m/\r\n",
      " .gitconfig\r\n",
      " .homedata.success\r\n",
      " \u001b[01;34m.ipynb_checkpoints\u001b[0m/\r\n",
      " \u001b[01;34m.ipython\u001b[0m/\r\n",
      " \u001b[01;34m.jupyter\u001b[0m/\r\n",
      " \u001b[01;34m.local\u001b[0m/\r\n",
      " .node.started\r\n",
      " \u001b[01;34m.npm\u001b[0m/\r\n",
      " .npmrc\r\n",
      " \u001b[01;34m.pip\u001b[0m/\r\n",
      " .profile\r\n",
      " .python_history\r\n",
      " \u001b[01;34m.ssh\u001b[0m/\r\n",
      " \u001b[01;34m.systemlogs\u001b[0m/\r\n",
      " .viminfo\r\n",
      " \u001b[01;34m.virtual_documents\u001b[0m/\r\n",
      " .vscode.log\r\n",
      " \u001b[01;34m.webide\u001b[0m/\r\n",
      " \u001b[01;34m.yarn\u001b[0m/\r\n",
      " .yarnrc\r\n",
      "'Day01-JupyterNotebook'$'\\347\\232\\204\\344\\275\\277\\347\\224\\250''.ipynb'\r\n",
      " \u001b[34;42mdata\u001b[0m/\r\n",
      " example.txt\r\n",
      " main.ipynb\r\n",
      " notebook.ipynb\r\n",
      " \u001b[01;34mtest_folder\u001b[0m/\r\n",
      " \u001b[01;34mwork\u001b[0m/\r\n"
     ]
    }
   ],
   "source": [
    "# 列出当前目录下的所有文件和文件夹\n",
    "%ls -a"
   ]
  },
  {
   "cell_type": "code",
   "execution_count": 17,
   "metadata": {
    "execution": {
     "iopub.execute_input": "2024-12-30T02:25:34.636471Z",
     "iopub.status.busy": "2024-12-30T02:25:34.635816Z",
     "iopub.status.idle": "2024-12-30T02:25:34.923730Z",
     "shell.execute_reply": "2024-12-30T02:25:34.922493Z",
     "shell.execute_reply.started": "2024-12-30T02:25:34.636423Z"
    },
    "scrolled": true,
    "tags": []
   },
   "outputs": [
    {
     "name": "stdout",
     "output_type": "stream",
     "text": [
      "mkdir: cannot create directory 'test_folder': File exists\r\n"
     ]
    }
   ],
   "source": [
    "# 创建一个名为 test_folder 的新文件夹\n",
    "%mkdir test_folder"
   ]
  },
  {
   "cell_type": "code",
   "execution_count": 25,
   "metadata": {
    "execution": {
     "iopub.execute_input": "2024-12-30T02:28:45.710198Z",
     "iopub.status.busy": "2024-12-30T02:28:45.709604Z",
     "iopub.status.idle": "2024-12-30T02:28:46.002286Z",
     "shell.execute_reply": "2024-12-30T02:28:46.001000Z",
     "shell.execute_reply.started": "2024-12-30T02:28:45.710163Z"
    },
    "scrolled": true,
    "tags": []
   },
   "outputs": [
    {
     "name": "stdout",
     "output_type": "stream",
     "text": [
      "/home/aistudio/test_folder\r\n"
     ]
    }
   ],
   "source": [
    "# 切换到 test_folder 文件夹，查看该目录下所有文件\n",
    "%cd test_folder\n",
    "%ls"
   ]
  },
  {
   "cell_type": "code",
   "execution_count": 27,
   "metadata": {
    "execution": {
     "iopub.execute_input": "2024-12-30T02:29:16.356542Z",
     "iopub.status.busy": "2024-12-30T02:29:16.355761Z",
     "iopub.status.idle": "2024-12-30T02:29:16.640514Z",
     "shell.execute_reply": "2024-12-30T02:29:16.638968Z",
     "shell.execute_reply.started": "2024-12-30T02:29:16.356506Z"
    },
    "scrolled": true,
    "tags": []
   },
   "outputs": [],
   "source": [
    "# 创建一个名为 example.txt 的文件，并向其中写入 \"Hello, Linux!\"。\n",
    "!echo \"Hello, Linux!\" > example.txt"
   ]
  },
  {
   "cell_type": "code",
   "execution_count": 28,
   "metadata": {
    "execution": {
     "iopub.execute_input": "2024-12-30T02:30:31.108658Z",
     "iopub.status.busy": "2024-12-30T02:30:31.107956Z",
     "iopub.status.idle": "2024-12-30T02:30:31.424102Z",
     "shell.execute_reply": "2024-12-30T02:30:31.422629Z",
     "shell.execute_reply.started": "2024-12-30T02:30:31.108621Z"
    },
    "scrolled": true
   },
   "outputs": [],
   "source": [
    "# 重命名 example.txt 为 hello.txt\n",
    "%mv example.txt hello.txt"
   ]
  },
  {
   "cell_type": "code",
   "execution_count": 29,
   "metadata": {
    "execution": {
     "iopub.execute_input": "2024-12-30T02:31:06.160423Z",
     "iopub.status.busy": "2024-12-30T02:31:06.159698Z",
     "iopub.status.idle": "2024-12-30T02:31:06.458893Z",
     "shell.execute_reply": "2024-12-30T02:31:06.457718Z",
     "shell.execute_reply.started": "2024-12-30T02:31:06.160374Z"
    },
    "scrolled": true
   },
   "outputs": [],
   "source": [
    "# 复制hello.txt到hello_copy.txt\n",
    "%cp hello.txt hello_copy.txt"
   ]
  },
  {
   "cell_type": "code",
   "execution_count": 30,
   "metadata": {
    "execution": {
     "iopub.execute_input": "2024-12-30T02:31:31.955758Z",
     "iopub.status.busy": "2024-12-30T02:31:31.954427Z",
     "iopub.status.idle": "2024-12-30T02:31:32.249998Z",
     "shell.execute_reply": "2024-12-30T02:31:32.248807Z",
     "shell.execute_reply.started": "2024-12-30T02:31:31.955674Z"
    },
    "scrolled": true
   },
   "outputs": [],
   "source": [
    "# 删除hello_copy.txt\n",
    "%rm hello_copy.txt"
   ]
  },
  {
   "cell_type": "code",
   "execution_count": 3,
   "metadata": {
    "execution": {
     "iopub.execute_input": "2024-12-30T12:10:52.237908Z",
     "iopub.status.busy": "2024-12-30T12:10:52.237228Z",
     "iopub.status.idle": "2024-12-30T12:10:52.595825Z",
     "shell.execute_reply": "2024-12-30T12:10:52.594808Z",
     "shell.execute_reply.started": "2024-12-30T12:10:52.237870Z"
    },
    "scrolled": true
   },
   "outputs": [
    {
     "name": "stdout",
     "output_type": "stream",
     "text": [
      "/home/aistudio/test_folder2\r\n"
     ]
    },
    {
     "data": {
      "text/plain": [
       "[]"
      ]
     },
     "execution_count": 3,
     "metadata": {},
     "output_type": "execute_result"
    }
   ],
   "source": [
    "# 题目：创建一个名为 test_folder2 的新文件夹，在该文件夹中新建一个叫做python_test.py 的文件，并向其中写入print('hello world')。\n",
    "# 你的代码\n",
    "\n",
    "# 测试运行结果\n",
    "!python python_test.py"
   ]
  },
  {
   "cell_type": "markdown",
   "metadata": {
    "execution": {
     "iopub.execute_input": "2024-12-30T02:35:22.521208Z",
     "iopub.status.busy": "2024-12-30T02:35:22.520505Z",
     "iopub.status.idle": "2024-12-30T02:35:22.525507Z",
     "shell.execute_reply": "2024-12-30T02:35:22.524750Z",
     "shell.execute_reply.started": "2024-12-30T02:35:22.521172Z"
    }
   },
   "source": [
    "## 3.数据集预处理"
   ]
  },
  {
   "cell_type": "code",
   "execution_count": null,
   "metadata": {
    "scrolled": true,
    "tags": []
   },
   "outputs": [],
   "source": [
    "!pwd\n",
    "!unzip /home/aistudio/data/data160305/列车手势数据集.zip -d /home/aistudio/work/railway-datasets/"
   ]
  },
  {
   "cell_type": "code",
   "execution_count": 1,
   "metadata": {
    "execution": {
     "iopub.execute_input": "2024-12-30T12:06:40.790505Z",
     "iopub.status.busy": "2024-12-30T12:06:40.790174Z",
     "iopub.status.idle": "2024-12-30T12:06:40.798350Z",
     "shell.execute_reply": "2024-12-30T12:06:40.797607Z",
     "shell.execute_reply.started": "2024-12-30T12:06:40.790478Z"
    },
    "scrolled": true,
    "tags": []
   },
   "outputs": [
    {
     "name": "stdout",
     "output_type": "stream",
     "text": [
      "文件夹 tingchexinhao 包含 684 个文件\r\n",
      "文件夹 yibiaozhengchang 包含 878 个文件\r\n",
      "文件夹 fache 包含 783 个文件\r\n",
      "文件夹 zhenxiantinche 包含 389 个文件\r\n",
      "文件夹 jinzhanxinhao 包含 882 个文件\r\n"
     ]
    }
   ],
   "source": [
    "import os\n",
    "\n",
    "# 定义数据集的主目录路径\n",
    "dataset_path = '/home/aistudio/work/railway-datasets'\n",
    "\n",
    "# 遍历主目录下的所有文件夹\n",
    "for folder in os.listdir(dataset_path):\n",
    "    # 构建子文件夹的完整路径\n",
    "    folder_path = os.path.join(dataset_path, folder)\n",
    "    \n",
    "    # 判断当前路径是否是文件夹\n",
    "    if os.path.isdir(folder_path):\n",
    "        # 获取当前文件夹中所有文件的数量\n",
    "        file_count = len(os.listdir(folder_path))\n",
    "        \n",
    "        # 打印文件夹名称和其中的文件数量\n",
    "        print(f\"文件夹 {folder} 包含 {file_count} 个文件\")"
   ]
  },
  {
   "cell_type": "code",
   "execution_count": 47,
   "metadata": {
    "execution": {
     "iopub.execute_input": "2024-12-30T03:07:36.909545Z",
     "iopub.status.busy": "2024-12-30T03:07:36.908979Z",
     "iopub.status.idle": "2024-12-30T03:07:36.916607Z",
     "shell.execute_reply": "2024-12-30T03:07:36.915543Z",
     "shell.execute_reply.started": "2024-12-30T03:07:36.909511Z"
    },
    "scrolled": true,
    "tags": []
   },
   "outputs": [
    {
     "name": "stdout",
     "output_type": "stream",
     "text": [
      "fache 文件夹中的文件数量: 783\r\n",
      "前10个文件: ['fache_674.jpg', 'fache_176.jpg', 'fache_352.jpg', 'fache_533.jpg', 'fache_747.jpg', 'fache_40.jpg', 'fache_180.jpg', 'fache_363.jpg', 'fache_546.jpg', 'fache_327.jpg']\r\n"
     ]
    }
   ],
   "source": [
    "childdir = 'fache'  # 定义子文件夹名称为 'fache'\n",
    "\n",
    "# 构建子文件夹的完整路径\n",
    "files = os.listdir(dataset_path + '/' + childdir)  \n",
    "\n",
    "# 打印文件数量\n",
    "print(f\"{childdir} 文件夹中的文件数量: {len(files)}\")  \n",
    "\n",
    "# 打印前10个文件名称\n",
    "print(f\"前10个文件: {files[:10]}\")  "
   ]
  },
  {
   "cell_type": "code",
   "execution_count": 48,
   "metadata": {
    "execution": {
     "iopub.execute_input": "2024-12-30T03:08:15.284046Z",
     "iopub.status.busy": "2024-12-30T03:08:15.283438Z",
     "iopub.status.idle": "2024-12-30T03:08:15.288603Z",
     "shell.execute_reply": "2024-12-30T03:08:15.287718Z",
     "shell.execute_reply.started": "2024-12-30T03:08:15.284009Z"
    },
    "scrolled": true
   },
   "outputs": [],
   "source": [
    "# 题目：输出jinzhanxinhao文件夹中的文件数量、前10个文件名称\n",
    "# 题目：输出tingchexinhao文件夹中的文件数量、前10个文件名称\n",
    "# 题目：输出yibiaozhengchang文件夹中的文件数量、前10个文件名称\n",
    "# 题目：输出zhenxiantinche文件夹中的文件数量、前10个文件名称"
   ]
  },
  {
   "cell_type": "code",
   "execution_count": 50,
   "metadata": {
    "execution": {
     "iopub.execute_input": "2024-12-30T03:10:29.109346Z",
     "iopub.status.busy": "2024-12-30T03:10:29.108763Z",
     "iopub.status.idle": "2024-12-30T03:10:32.482367Z",
     "shell.execute_reply": "2024-12-30T03:10:32.481224Z",
     "shell.execute_reply.started": "2024-12-30T03:10:29.109312Z"
    },
    "scrolled": true,
    "tags": []
   },
   "outputs": [],
   "source": [
    "from PIL import Image\n",
    "\n",
    "#  对图像统一尺寸\n",
    "output_path = '/home/aistudio/work/railway-datasets-resized'\n",
    "os.makedirs(output_path, exist_ok=True)\n",
    "\n",
    "for folder in os.listdir(dataset_path):\n",
    "    folder_path = os.path.join(dataset_path, folder)\n",
    "    save_folder = os.path.join(output_path, folder)\n",
    "    os.makedirs(save_folder, exist_ok=True)\n",
    "    \n",
    "    for file in os.listdir(folder_path):\n",
    "        img_path = os.path.join(folder_path, file)\n",
    "        img = Image.open(img_path)\n",
    "        img = img.resize((128, 128))\n",
    "        img.save(os.path.join(save_folder, file))"
   ]
  },
  {
   "cell_type": "code",
   "execution_count": null,
   "metadata": {
    "scrolled": true
   },
   "outputs": [],
   "source": [
    "# 题目：对【AI达人特训营】交通灯检测的数据集进行预处理，如解压、查看数据集结构、to"
   ]
  }
 ],
 "metadata": {
  "kernelspec": {
   "display_name": "Python 3",
   "language": "python",
   "name": "py35-paddle1.2.0"
  },
  "language_info": {
   "codemirror_mode": {
    "name": "ipython",
    "version": 3
   },
   "file_extension": ".py",
   "mimetype": "text/x-python",
   "name": "python",
   "nbconvert_exporter": "python",
   "pygments_lexer": "ipython3",
   "version": "3.10.10"
  }
 },
 "nbformat": 4,
 "nbformat_minor": 4
}
